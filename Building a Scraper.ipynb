{
 "cells": [
  {
   "cell_type": "code",
   "execution_count": 69,
   "metadata": {},
   "outputs": [],
   "source": [
    "import selenium\n",
    "from selenium import webdriver\n",
    "import pandas as pd\n",
    "driver = webdriver.Chrome(r\"C:\\Users\\kailen\\Downloads\\chromedriver.exe\")"
   ]
  },
  {
   "cell_type": "code",
   "execution_count": 95,
   "metadata": {
    "scrolled": true
   },
   "outputs": [
    {
     "name": "stdout",
     "output_type": "stream",
     "text": [
      "Us is more sensory experience than thinkpiece.\n",
      "Executed with stylistic brio and acted accordingly, Us is a smart move that will keep you on the edge of your seats.\n",
      "Most frightening of all is how the film's use of mirrors extends to the audience, holding one up to each and every one of us. What you see just might scare you to death.\n",
      "Us revolves around an allegory that's more elastic and resistant to parsing than megahit Get Out.\n",
      "Peele is slowly emerging as one of the most exciting provocateurs of modern horror films. \"Us\" is further proof of that.\n",
      "'Us' is part horror movie, part social commentary.\n",
      "Peele is a gifted filmmaker, the ending is satisfyingly chilling and it boasts another brilliant performance by Lupita Nyong'o in a dual role.\n",
      "It is a testimony to Peele's power as a filmmaker that he weaves this overwhelming idea into an absorbing and even enjoyable film. He got the genre right: we should be terrified.\n",
      "Us is both enjoyable and slightly disappointing when seeing the clever aspects of Peele's filmmaking draw tantalisingly close together before drifting apart.\n",
      "\" 'Us' is a move that looks at the forgotten and disenfranchised - literally those who live in the shadows and have no real place in our world.\n",
      "Society's demons acquire physical forms while the horror film returns to embrace that politicization that was present in John Carpenter and George A. Romero' best films. [Full review in Spanish]\n",
      "Peele's latest will hold your attention throughout and I loved the way in which he's infused comedy within the thrills.\n",
      "Us succeeds, but it's almost as if Peele is trying too hard\n",
      "Performances in genre pieces are often dismissed and disregarded, but make no mistake: Nyongo's work in Us is some of the very best of her career.\n",
      "A very significant horror film with a real core, an entertaining story, incredible performances and excellent execution\n",
      "Us' biggest success comes down to its impeccable casting. With everyone pulling double-duty, it's insane the depth of performance we see ...\n",
      "proves that Peele is hardly a flash in the pan; his talent is undeniable, as is his dedication to crafting superior horror movies that work beyond the general expectations of the genre\n",
      "Combines masterful visuals with dense storytelling, and a half-dozen instant-classic sequences. And it's scary as hell.\n",
      "More than just a horror movie, Us represents a multilayered experience that will leave your brain in knots...In short, you simply have to watch Us for yourself.\n",
      "Theories aside, this is a scary, fun, suspenseful thriller with comedic elements and great performances. I can enjoy the movie on surface level without needing some doctorate degree.\n"
     ]
    }
   ],
   "source": [
    "driver.get('https://www.rottentomatoes.com/m/us_2019/reviews/')\n",
    "\n",
    "results = driver.find_elements_by_class_name('review_desc')\n",
    "for r in results:\n",
    "    review = r.find_element_by_class_name('the_review')\n",
    "    print(reviews.text)"
   ]
  },
  {
   "cell_type": "code",
   "execution_count": 195,
   "metadata": {},
   "outputs": [
    {
     "data": {
      "text/html": [
       "<div>\n",
       "<style scoped>\n",
       "    .dataframe tbody tr th:only-of-type {\n",
       "        vertical-align: middle;\n",
       "    }\n",
       "\n",
       "    .dataframe tbody tr th {\n",
       "        vertical-align: top;\n",
       "    }\n",
       "\n",
       "    .dataframe thead th {\n",
       "        text-align: right;\n",
       "    }\n",
       "</style>\n",
       "<table border=\"1\" class=\"dataframe\">\n",
       "  <thead>\n",
       "    <tr style=\"text-align: right;\">\n",
       "      <th></th>\n",
       "      <th>Date</th>\n",
       "      <th>Reviewer</th>\n",
       "      <th>Website</th>\n",
       "      <th>Review</th>\n",
       "      <th>Score</th>\n",
       "    </tr>\n",
       "  </thead>\n",
       "  <tbody>\n",
       "  </tbody>\n",
       "</table>\n",
       "</div>"
      ],
      "text/plain": [
       "Empty DataFrame\n",
       "Columns: [Date, Reviewer, Website, Review, Score]\n",
       "Index: []"
      ]
     },
     "execution_count": 195,
     "metadata": {},
     "output_type": "execute_result"
    }
   ],
   "source": [
    "reviewdf = pd.DataFrame(columns=['Date', 'Reviewer', 'Website', 'Review', 'Score'])\n",
    "reviewdf"
   ]
  },
  {
   "cell_type": "code",
   "execution_count": 207,
   "metadata": {
    "scrolled": true
   },
   "outputs": [],
   "source": [
    "#We'll initialize some lists to add our scraped elements to.\n",
    "#These will make up the contents of our dataframe later.\n",
    "\n",
    "dates = []\n",
    "reviews = []\n",
    "scores = []\n",
    "newscores = []\n",
    "\n",
    "#Now we can start scraping different elements. These classes\n",
    "#will vary depending on the platform you're scraping\n",
    "#In my case, the class names for these attributes are distinct,\n",
    "#so we can extract them simply by calling them\n",
    "\n",
    "results = driver.find_elements_by_class_name('review_area')\n",
    "for r in results: \n",
    "    dates.append(r.find_element_by_class_name('subtle').text)\n",
    "    reviews.append(r.find_element_by_class_name('the_review').text)\n",
    "    #To get our scores, we'll have to go one level deeper, since its class name is also 'subtle'\n",
    "    revs = r.find_element_by_class_name('review_desc')\n",
    "    scores.append(revs.find_element_by_class_name('subtle').text)\n",
    "\n",
    "\n",
    "for score in scores:\n",
    "    if score == ('Full Review'):\n",
    "        newscores.append('no score')\n",
    "    else:\n",
    "        score2 = score[14:]\n",
    "        newscores.append(score2)"
   ]
  },
  {
   "cell_type": "code",
   "execution_count": 208,
   "metadata": {},
   "outputs": [
    {
     "name": "stdout",
     "output_type": "stream",
     "text": [
      "['Us is more sensory experience than thinkpiece.', 'Executed with stylistic brio and acted accordingly, Us is a smart move that will keep you on the edge of your seats.', \"Most frightening of all is how the film's use of mirrors extends to the audience, holding one up to each and every one of us. What you see just might scare you to death.\", \"Us revolves around an allegory that's more elastic and resistant to parsing than megahit Get Out.\", 'Peele is slowly emerging as one of the most exciting provocateurs of modern horror films. \"Us\" is further proof of that.']\n",
      "['April 20, 2019', 'April 20, 2019', 'April 19, 2019', 'April 18, 2019', 'April 16, 2019']\n",
      "['Original Score: 4/5', 'Original Score: 4/5', 'Original Score: 4.5/5', 'no score', 'Original Score: 3/4']\n"
     ]
    }
   ],
   "source": [
    "print(reviews[:5])\n",
    "print(dates[:5])\n",
    "print(newscores[:5])"
   ]
  },
  {
   "cell_type": "code",
   "execution_count": 201,
   "metadata": {},
   "outputs": [
    {
     "data": {
      "text/html": [
       "<div>\n",
       "<style scoped>\n",
       "    .dataframe tbody tr th:only-of-type {\n",
       "        vertical-align: middle;\n",
       "    }\n",
       "\n",
       "    .dataframe tbody tr th {\n",
       "        vertical-align: top;\n",
       "    }\n",
       "\n",
       "    .dataframe thead th {\n",
       "        text-align: right;\n",
       "    }\n",
       "</style>\n",
       "<table border=\"1\" class=\"dataframe\">\n",
       "  <thead>\n",
       "    <tr style=\"text-align: right;\">\n",
       "      <th></th>\n",
       "      <th>Date</th>\n",
       "      <th>Reviewer</th>\n",
       "      <th>Website</th>\n",
       "      <th>Review</th>\n",
       "      <th>Score</th>\n",
       "    </tr>\n",
       "  </thead>\n",
       "  <tbody>\n",
       "    <tr>\n",
       "      <th>0</th>\n",
       "      <td>April 20, 2019</td>\n",
       "      <td>NaN</td>\n",
       "      <td>NaN</td>\n",
       "      <td>Us is more sensory experience than thinkpiece.</td>\n",
       "      <td>Original Score: 4/5</td>\n",
       "    </tr>\n",
       "    <tr>\n",
       "      <th>1</th>\n",
       "      <td>April 20, 2019</td>\n",
       "      <td>NaN</td>\n",
       "      <td>NaN</td>\n",
       "      <td>Executed with stylistic brio and acted accordi...</td>\n",
       "      <td>Original Score: 4/5</td>\n",
       "    </tr>\n",
       "    <tr>\n",
       "      <th>2</th>\n",
       "      <td>April 19, 2019</td>\n",
       "      <td>NaN</td>\n",
       "      <td>NaN</td>\n",
       "      <td>Most frightening of all is how the film's use ...</td>\n",
       "      <td>Original Score: 4.5/5</td>\n",
       "    </tr>\n",
       "    <tr>\n",
       "      <th>3</th>\n",
       "      <td>April 18, 2019</td>\n",
       "      <td>NaN</td>\n",
       "      <td>NaN</td>\n",
       "      <td>Us revolves around an allegory that's more ela...</td>\n",
       "      <td></td>\n",
       "    </tr>\n",
       "    <tr>\n",
       "      <th>4</th>\n",
       "      <td>April 16, 2019</td>\n",
       "      <td>NaN</td>\n",
       "      <td>NaN</td>\n",
       "      <td>Peele is slowly emerging as one of the most ex...</td>\n",
       "      <td>Original Score: 3/4</td>\n",
       "    </tr>\n",
       "  </tbody>\n",
       "</table>\n",
       "</div>"
      ],
      "text/plain": [
       "             Date Reviewer Website  \\\n",
       "0  April 20, 2019      NaN     NaN   \n",
       "1  April 20, 2019      NaN     NaN   \n",
       "2  April 19, 2019      NaN     NaN   \n",
       "3  April 18, 2019      NaN     NaN   \n",
       "4  April 16, 2019      NaN     NaN   \n",
       "\n",
       "                                              Review                  Score  \n",
       "0     Us is more sensory experience than thinkpiece.    Original Score: 4/5  \n",
       "1  Executed with stylistic brio and acted accordi...    Original Score: 4/5  \n",
       "2  Most frightening of all is how the film's use ...  Original Score: 4.5/5  \n",
       "3  Us revolves around an allegory that's more ela...                         \n",
       "4  Peele is slowly emerging as one of the most ex...    Original Score: 3/4  "
      ]
     },
     "execution_count": 201,
     "metadata": {},
     "output_type": "execute_result"
    }
   ],
   "source": [
    "reviewdf['Date'] = dates\n",
    "reviewdf['Review'] = reviews\n",
    "reviewdf['Score'] = newscores\n",
    "reviewdf.head()"
   ]
  },
  {
   "cell_type": "code",
   "execution_count": 209,
   "metadata": {},
   "outputs": [],
   "source": [
    "names = []\n",
    "sites = []\n",
    "#We have to create an accumulator called reviewnum for the different reviews which\n",
    "#we'll insert into our xpath below so we can extract each distinct name\n",
    "reviewnum = 1\n",
    "\n",
    "reviewers = driver.find_elements_by_xpath('//*[@id=\"reviews\"]/div[2]/div[4]/div')\n",
    "for r in reviewers:\n",
    "    names.append(r.find_element_by_xpath('//*[@id=\"reviews\"]/div[2]/div[4]/div[' + str(reviewnum) + ']/div[1]/div[3]/a[1]').text)\n",
    "    sites.append(r.find_element_by_class_name('subtle').text)\n",
    "    reviewnum+=1"
   ]
  },
  {
   "cell_type": "code",
   "execution_count": 210,
   "metadata": {},
   "outputs": [
    {
     "data": {
      "text/html": [
       "<div>\n",
       "<style scoped>\n",
       "    .dataframe tbody tr th:only-of-type {\n",
       "        vertical-align: middle;\n",
       "    }\n",
       "\n",
       "    .dataframe tbody tr th {\n",
       "        vertical-align: top;\n",
       "    }\n",
       "\n",
       "    .dataframe thead th {\n",
       "        text-align: right;\n",
       "    }\n",
       "</style>\n",
       "<table border=\"1\" class=\"dataframe\">\n",
       "  <thead>\n",
       "    <tr style=\"text-align: right;\">\n",
       "      <th></th>\n",
       "      <th>Date</th>\n",
       "      <th>Reviewer</th>\n",
       "      <th>Website</th>\n",
       "      <th>Review</th>\n",
       "      <th>Score</th>\n",
       "    </tr>\n",
       "  </thead>\n",
       "  <tbody>\n",
       "    <tr>\n",
       "      <th>0</th>\n",
       "      <td>April 20, 2019</td>\n",
       "      <td>Wenlei Ma</td>\n",
       "      <td>News.com.au</td>\n",
       "      <td>Us is more sensory experience than thinkpiece.</td>\n",
       "      <td>Original Score: 4/5</td>\n",
       "    </tr>\n",
       "    <tr>\n",
       "      <th>1</th>\n",
       "      <td>April 20, 2019</td>\n",
       "      <td>Filipe Freitas</td>\n",
       "      <td>Always Good Movies</td>\n",
       "      <td>Executed with stylistic brio and acted accordi...</td>\n",
       "      <td>Original Score: 4/5</td>\n",
       "    </tr>\n",
       "    <tr>\n",
       "      <th>2</th>\n",
       "      <td>April 19, 2019</td>\n",
       "      <td>J. Olson</td>\n",
       "      <td>Cinemixtape</td>\n",
       "      <td>Most frightening of all is how the film's use ...</td>\n",
       "      <td>Original Score: 4.5/5</td>\n",
       "    </tr>\n",
       "    <tr>\n",
       "      <th>3</th>\n",
       "      <td>April 18, 2019</td>\n",
       "      <td>Alison Willmore</td>\n",
       "      <td>BuzzFeed News</td>\n",
       "      <td>Us revolves around an allegory that's more ela...</td>\n",
       "      <td></td>\n",
       "    </tr>\n",
       "    <tr>\n",
       "      <th>4</th>\n",
       "      <td>April 16, 2019</td>\n",
       "      <td>David Keyes</td>\n",
       "      <td>Cinemaphile.org</td>\n",
       "      <td>Peele is slowly emerging as one of the most ex...</td>\n",
       "      <td>Original Score: 3/4</td>\n",
       "    </tr>\n",
       "  </tbody>\n",
       "</table>\n",
       "</div>"
      ],
      "text/plain": [
       "             Date         Reviewer             Website  \\\n",
       "0  April 20, 2019        Wenlei Ma         News.com.au   \n",
       "1  April 20, 2019   Filipe Freitas  Always Good Movies   \n",
       "2  April 19, 2019         J. Olson         Cinemixtape   \n",
       "3  April 18, 2019  Alison Willmore       BuzzFeed News   \n",
       "4  April 16, 2019      David Keyes     Cinemaphile.org   \n",
       "\n",
       "                                              Review                  Score  \n",
       "0     Us is more sensory experience than thinkpiece.    Original Score: 4/5  \n",
       "1  Executed with stylistic brio and acted accordi...    Original Score: 4/5  \n",
       "2  Most frightening of all is how the film's use ...  Original Score: 4.5/5  \n",
       "3  Us revolves around an allegory that's more ela...                         \n",
       "4  Peele is slowly emerging as one of the most ex...    Original Score: 3/4  "
      ]
     },
     "execution_count": 210,
     "metadata": {},
     "output_type": "execute_result"
    }
   ],
   "source": [
    "reviewdf['Reviewer'] = names\n",
    "reviewdf['Website'] = sites\n",
    "reviewdf.head()"
   ]
  }
 ],
 "metadata": {
  "kernelspec": {
   "display_name": "Python 3",
   "language": "python",
   "name": "python3"
  },
  "language_info": {
   "codemirror_mode": {
    "name": "ipython",
    "version": 3
   },
   "file_extension": ".py",
   "mimetype": "text/x-python",
   "name": "python",
   "nbconvert_exporter": "python",
   "pygments_lexer": "ipython3",
   "version": "3.6.5"
  }
 },
 "nbformat": 4,
 "nbformat_minor": 2
}
