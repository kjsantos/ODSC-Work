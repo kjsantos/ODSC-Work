{
 "cells": [
  {
   "cell_type": "code",
   "execution_count": 14,
   "metadata": {},
   "outputs": [],
   "source": [
    "import numpy as np\n",
    "import plotly\n",
    "import chart_studio\n",
    "import chart_studio.plotly as py\n",
    "import pandas as pd\n",
    "import scipy as sp\n",
    "import plotly.figure_factory as ff\n",
    "import plotly.graph_objs as go\n",
    "chart_studio.tools.set_credentials_file(username='kjsantos', api_key='AG6NYncKpOgcKwD5eA09')"
   ]
  },
  {
   "cell_type": "code",
   "execution_count": 10,
   "metadata": {
    "scrolled": true
   },
   "outputs": [],
   "source": [
    "df = pd.read_csv(\"Boston Weather January.csv\")\n",
    "df\n",
    "\n",
    "df = df[df.DATE != '2019-02']"
   ]
  },
  {
   "cell_type": "code",
   "execution_count": 15,
   "metadata": {},
   "outputs": [
    {
     "data": {
      "text/html": [
       "\n",
       "        <iframe\n",
       "            width=\"100%\"\n",
       "            height=\"525px\"\n",
       "            src=\"https://plotly.com/~kjsantos/4.embed\"\n",
       "            frameborder=\"0\"\n",
       "            allowfullscreen\n",
       "        ></iframe>\n",
       "        "
      ],
      "text/plain": [
       "<IPython.lib.display.IFrame at 0x7faf0c359390>"
      ]
     },
     "execution_count": 15,
     "metadata": {},
     "output_type": "execute_result"
    }
   ],
   "source": [
    "#This line will create the text that is displayed when hovering over data points on the map.\n",
    "#I've included the name and average precipitation of each city in the dataset\n",
    "df['text'] = df['NAME'].astype(str) + ', ' + '\\n' + 'Precipitation: ' + df['PRCP'].astype(str)\n",
    "\n",
    "#This will be our color scale for varying percentiles in precipitation\n",
    "scl = [ [0,\"rgb(5, 10, 172)\"],[0.35,\"rgb(40, 60, 190)\"],[0.5,\"rgb(70, 100, 245)\"],\\\n",
    "    [0.6,\"rgb(90, 120, 245)\"],[0.7,\"rgb(106, 137, 247)\"],[1,\"rgb(220, 220, 220)\"] ]\n",
    "\n",
    "\n",
    "data = [ go.Scattergeo(\n",
    "        locationmode = 'USA-states',\n",
    "        lon = df['LONGITUDE'],\n",
    "        lat = df['LATITUDE'],\n",
    "        text = df['text'],\n",
    "        mode = 'markers',\n",
    "        marker = dict(size = 8, \n",
    "            opacity = 0.8,\n",
    "            reversescale = False,\n",
    "            autocolorscale = True,\n",
    "            symbol = 'circle',\n",
    "            line = dict(\n",
    "                width=.8,\n",
    "                color='rgba(102, 102, 102)'\n",
    "            ),\n",
    "            cmin = 0,\n",
    "            color = df['PRCP'],\n",
    "            cmax = df['PRCP'].max(),\n",
    "            colorbar=dict(\n",
    "                title=\"Precipitation Avg. Jan. 2019 (in)\"\n",
    "            )\n",
    "        ))]\n",
    "\n",
    "layout = dict(\n",
    "        title = 'Average Precipitation in Greater Boston Area (Jan. 2019)', \n",
    "        geo = dict(\n",
    "            scope='usa',\n",
    "            projection=dict( type='albers usa' ),\n",
    "            showland = True,\n",
    "            landcolor = \"rgb(250, 250, 250)\",\n",
    "            subunitcolor = \"rgb(217, 217, 217)\",\n",
    "            countrycolor = \"rgb(217, 217, 217)\",\n",
    "            countrywidth = 0.5,\n",
    "            subunitwidth = 0.5        \n",
    "        ),\n",
    "    )\n",
    "\n",
    "fig = go.Figure(data=data, layout=layout )\n",
    "py.iplot(fig, filename='Precipitation' )"
   ]
  },
  {
   "cell_type": "code",
   "execution_count": 16,
   "metadata": {
    "scrolled": false
   },
   "outputs": [],
   "source": [
    "df2 = pd.read_csv('Monthly Report.csv')\n",
    "dfBos = df2[df2['NAME'] == 'BOSTON, MA US']\n",
    "dfJP = df2[df2['NAME'] == 'JAMAICA PLAIN, MA US']\n",
    "dfCh = df2[df2['NAME'] == 'CHELSEA 0.8 N, MA US']"
   ]
  },
  {
   "cell_type": "code",
   "execution_count": 17,
   "metadata": {},
   "outputs": [
    {
     "data": {
      "text/html": [
       "\n",
       "        <iframe\n",
       "            width=\"100%\"\n",
       "            height=\"525px\"\n",
       "            src=\"https://plotly.com/~kjsantos/8.embed\"\n",
       "            frameborder=\"0\"\n",
       "            allowfullscreen\n",
       "        ></iframe>\n",
       "        "
      ],
      "text/plain": [
       "<IPython.lib.display.IFrame at 0x7faf0f3300d0>"
      ]
     },
     "execution_count": 17,
     "metadata": {},
     "output_type": "execute_result"
    }
   ],
   "source": [
    "trace1 = go.Scatter(\n",
    "    x = dfBos['DATE'],\n",
    "    y = dfBos['PRCP'],\n",
    "    name = 'Precipitation in Boston',\n",
    "    line = dict(\n",
    "        color = ('blue'),\n",
    "        width = 3)\n",
    ")\n",
    "trace2 = go.Scatter(\n",
    "    x = dfCh['DATE'],\n",
    "    y = dfCh['PRCP'],\n",
    "    name = 'Precipitation in Chelsea',\n",
    "    line = dict(\n",
    "        color = ('red'),\n",
    "        width = 3)\n",
    ")\n",
    "data = [trace1, trace2]\n",
    "\n",
    "layout = dict(title = 'Average Precipitation in Suffolk County, MA',\n",
    "              xaxis = dict(title = 'Month'),\n",
    "              yaxis = dict(title = 'Precipitation (in)'),\n",
    "              )\n",
    "\n",
    "fig = dict(data=data, layout=layout)\n",
    "py.iplot(fig, filename='Precipitation in Suffolk County')"
   ]
  },
  {
   "cell_type": "code",
   "execution_count": null,
   "metadata": {},
   "outputs": [],
   "source": []
  }
 ],
 "metadata": {
  "kernelspec": {
   "display_name": "Python 3",
   "language": "python",
   "name": "python3"
  },
  "language_info": {
   "codemirror_mode": {
    "name": "ipython",
    "version": 3
   },
   "file_extension": ".py",
   "mimetype": "text/x-python",
   "name": "python",
   "nbconvert_exporter": "python",
   "pygments_lexer": "ipython3",
   "version": "3.7.6"
  }
 },
 "nbformat": 4,
 "nbformat_minor": 2
}
